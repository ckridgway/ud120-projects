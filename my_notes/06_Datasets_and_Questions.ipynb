{
 "cells": [
  {
   "cell_type": "markdown",
   "metadata": {},
   "source": [
    "# Datasets and Questions\n",
    "## Objective\n",
    "Use machine learning algorithms to examine the Enron email corpus to find Persons-of-Interest (POI).\n",
    "\n",
    "## What is a Person-of-Interest (POI)\n",
    "Someone who was:\n",
    "* Indicted\n",
    "* Settled without admitting guilt\n",
    "* Testified in exchange for immunity\n",
    "\n",
    "## Mini-Project\n",
    "### Question: How many people are in the dataset?"
   ]
  },
  {
   "cell_type": "code",
   "execution_count": 1,
   "metadata": {
    "collapsed": false
   },
   "outputs": [
    {
     "name": "stdout",
     "output_type": "stream",
     "text": [
      "There are 146 people in the dataset.\n"
     ]
    }
   ],
   "source": [
    "import pickle\n",
    "\n",
    "enron_data = pickle.load(open(\"../final_project/final_project_dataset.pkl\", \"rb\"))\n",
    "\n",
    "print('There are {} people in the dataset.'.format(len(enron_data)))"
   ]
  },
  {
   "cell_type": "code",
   "execution_count": 2,
   "metadata": {
    "collapsed": false
   },
   "outputs": [
    {
     "name": "stdout",
     "output_type": "stream",
     "text": [
      "There are 21 features in the dataset.\n"
     ]
    }
   ],
   "source": [
    "num_features = max([len(x) for x in enron_data.values()])\n",
    "\n",
    "print('There are {} features in the dataset.'.format(num_features))"
   ]
  },
  {
   "cell_type": "code",
   "execution_count": 3,
   "metadata": {
    "collapsed": false
   },
   "outputs": [
    {
     "name": "stdout",
     "output_type": "stream",
     "text": [
      "Thre are 18 POIs in the dataset.\n"
     ]
    }
   ],
   "source": [
    "num_pois = sum([x['poi'] == 1 for x in enron_data.values()])\n",
    "\n",
    "print('Thre are {} POIs in the dataset.'.format(num_pois))"
   ]
  },
  {
   "cell_type": "code",
   "execution_count": 4,
   "metadata": {
    "collapsed": false
   },
   "outputs": [
    {
     "name": "stdout",
     "output_type": "stream",
     "text": [
      "There are 35 POIs.\n"
     ]
    }
   ],
   "source": [
    "pois = []\n",
    "with open('../final_project/poi_names.txt') as f:\n",
    "    for line in f:\n",
    "        if line.startswith('('):\n",
    "            pois.append(line[4:].rstrip().upper().replace(',', ''))\n",
    "\n",
    "for name, features in enron_data.items():\n",
    "    if features['poi'] == 1:  \n",
    "        found = False\n",
    "        for poi in pois:\n",
    "            # If 2 or more name components are in each list, then it's the same person.\n",
    "            if len(list(set(poi.split()) & set(name.split()))) >= 2:\n",
    "                found = True\n",
    "                break\n",
    "        if found is False:\n",
    "            pois.append(name)\n",
    "\n",
    "print('There are {} POIs.'.format(len(pois)))"
   ]
  },
  {
   "cell_type": "code",
   "execution_count": 5,
   "metadata": {
    "collapsed": false
   },
   "outputs": [
    {
     "name": "stdout",
     "output_type": "stream",
     "text": [
      "James Prentice total stock value is: $1095040\n"
     ]
    }
   ],
   "source": [
    "print('James Prentice total stock value is: ${}'.format(\n",
    "    enron_data['PRENTICE JAMES']['total_stock_value']))"
   ]
  },
  {
   "cell_type": "code",
   "execution_count": 6,
   "metadata": {
    "collapsed": false
   },
   "outputs": [
    {
     "name": "stdout",
     "output_type": "stream",
     "text": [
      "Wesley Colwell sent 11 email messages to other POIs.\n"
     ]
    }
   ],
   "source": [
    "print('Wesley Colwell sent {} email messages to other POIs.'.format(\n",
    "    enron_data['COLWELL WESLEY']['from_this_person_to_poi']))"
   ]
  },
  {
   "cell_type": "code",
   "execution_count": 7,
   "metadata": {
    "collapsed": false
   },
   "outputs": [
    {
     "name": "stdout",
     "output_type": "stream",
     "text": [
      "Jeff Skilling excercised $19250000 worth of options.\n"
     ]
    }
   ],
   "source": [
    "print('Jeff Skilling excercised ${} worth of options.'.format(\n",
    "    enron_data['SKILLING JEFFREY K']['exercised_stock_options']))"
   ]
  },
  {
   "cell_type": "code",
   "execution_count": 8,
   "metadata": {
    "collapsed": false,
    "scrolled": true
   },
   "outputs": [
    {
     "name": "stdout",
     "output_type": "stream",
     "text": [
      "LAY KENNETH L took home the most with $103559793\n"
     ]
    }
   ],
   "source": [
    "execs = ['LAY KENNETH L', 'SKILLING JEFFREY K', 'FASTOW ANDREW S']\n",
    "execs = [(x, enron_data[x]['total_payments']) for x in execs]\n",
    "execs.sort(key=lambda x: x[1], reverse=True)\n",
    "print('{exec[0]} took home the most with ${exec[1]}'.format(exec=execs[0]))"
   ]
  },
  {
   "cell_type": "code",
   "execution_count": 9,
   "metadata": {
    "collapsed": false
   },
   "outputs": [
    {
     "name": "stdout",
     "output_type": "stream",
     "text": [
      "There are 95 quantified salaries out of 146.\n"
     ]
    }
   ],
   "source": [
    "salaries = [\n",
    "    x['salary'] for x in enron_data.values() if x['salary'] != 'NaN']\n",
    "\n",
    "print('There are {} quantified salaries out of {}.'.format(\n",
    "    len(salaries),\n",
    "    len(enron_data.keys())))"
   ]
  },
  {
   "cell_type": "code",
   "execution_count": 10,
   "metadata": {
    "collapsed": false
   },
   "outputs": [
    {
     "name": "stdout",
     "output_type": "stream",
     "text": [
      "There are 111 email addresses.\n"
     ]
    }
   ],
   "source": [
    "email_addresses = [\n",
    "    x['email_address'] for x in enron_data.values() \n",
    "    if x['email_address'] != 'NaN']\n",
    "\n",
    "print('There are {} email addresses.'.format(len(email_addresses)))"
   ]
  },
  {
   "cell_type": "code",
   "execution_count": 11,
   "metadata": {
    "collapsed": false
   },
   "outputs": [
    {
     "name": "stdout",
     "output_type": "stream",
     "text": [
      "21 people are missing total_payments information.\n",
      "14.38% of the total people in the dataset.\n"
     ]
    }
   ],
   "source": [
    "num_nan_payments = len(\n",
    "    [x['total_payments'] for x in enron_data.values() \n",
    "     if x['total_payments'] == 'NaN'])\n",
    "\n",
    "as_percentage = \\\n",
    "    (num_nan_payments / len(enron_data.keys()))\n",
    "\n",
    "print(num_nan_payments, 'people are missing total_payments information.')\n",
    "print('{:.2%} of the total people in the dataset.'.format(as_percentage))"
   ]
  },
  {
   "cell_type": "code",
   "execution_count": 12,
   "metadata": {
    "collapsed": false
   },
   "outputs": [
    {
     "name": "stdout",
     "output_type": "stream",
     "text": [
      "0 POIs are missing total_payments information.\n",
      "0.00% of the total POIs in the dataset.\n"
     ]
    }
   ],
   "source": [
    "num_poi_nan_payments = len(\n",
    "    [x['total_payments'] for x in enron_data.values() \n",
    "     if x['total_payments'] == 'NaN' and x['poi'] == 1])\n",
    "\n",
    "poi_as_percentage = \\\n",
    "    (num_poi_nan_payments / num_pois)\n",
    "    \n",
    "print(num_poi_nan_payments, 'POIs are missing total_payments information.')\n",
    "print('{:.2%} of the total POIs in the dataset.'.format(poi_as_percentage))"
   ]
  }
 ],
 "metadata": {
  "kernelspec": {
   "display_name": "Python 3",
   "language": "python",
   "name": "python3"
  },
  "language_info": {
   "codemirror_mode": {
    "name": "ipython",
    "version": 3
   },
   "file_extension": ".py",
   "mimetype": "text/x-python",
   "name": "python",
   "nbconvert_exporter": "python",
   "pygments_lexer": "ipython3",
   "version": "3.6.0"
  }
 },
 "nbformat": 4,
 "nbformat_minor": 2
}
