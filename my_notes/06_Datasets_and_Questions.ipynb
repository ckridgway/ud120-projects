{
 "cells": [
  {
   "cell_type": "markdown",
   "metadata": {},
   "source": [
    "# Datasets and Questions\n",
    "## Objective\n",
    "Use machine learning algorithms to examine the Enron email corpus to find Persons-of-Interest (POI).\n",
    "\n",
    "## What is a Person-of-Interest (POI)\n",
    "Someone who was:\n",
    "* Indicted\n",
    "* Settled without admitting guilt\n",
    "* Testified in exchange for immunity\n",
    "\n",
    "## Mini-Project\n",
    "### Question: How many people are in the dataset?"
   ]
  },
  {
   "cell_type": "code",
   "execution_count": 4,
   "metadata": {
    "collapsed": false
   },
   "outputs": [
    {
     "name": "stdout",
     "output_type": "stream",
     "text": [
      "There are 146 people in the dataset.\n"
     ]
    }
   ],
   "source": [
    "import pickle\n",
    "\n",
    "enron_data = pickle.load(open(\"../final_project/final_project_dataset.pkl\", \"rb\"))\n",
    "\n",
    "print('There are {} people in the dataset.'.format(len(enron_data)))"
   ]
  },
  {
   "cell_type": "code",
   "execution_count": 15,
   "metadata": {
    "collapsed": false
   },
   "outputs": [
    {
     "name": "stdout",
     "output_type": "stream",
     "text": [
      "There are 21 features in the dataset.\n"
     ]
    }
   ],
   "source": [
    "num_features = max([len(x) for x in enron_data.values()])\n",
    "\n",
    "print('There are {} features in the dataset.'.format(num_features))"
   ]
  },
  {
   "cell_type": "code",
   "execution_count": 16,
   "metadata": {
    "collapsed": false
   },
   "outputs": [
    {
     "name": "stdout",
     "output_type": "stream",
     "text": [
      "Thre are 18 POIs in the dataset.\n"
     ]
    }
   ],
   "source": [
    "num_pois = sum([x['poi'] == 1 for x in enron_data.values()])\n",
    "\n",
    "print('Thre are {} POIs in the dataset.'.format(num_pois))"
   ]
  },
  {
   "cell_type": "code",
   "execution_count": 28,
   "metadata": {
    "collapsed": false
   },
   "outputs": [
    {
     "name": "stdout",
     "output_type": "stream",
     "text": [
      "['BAYLEY', 'DANIEL']\n",
      "['BELDEN', 'TIMOTHY']\n",
      "['BERMINGHAM', 'DAVID']\n",
      "['BOWEN', 'RAYMOND']\n",
      "['BOYLE', 'DAN']\n",
      "['BROWN', 'JAMES']\n",
      "['CALGER', 'CHRISTOPHER']\n",
      "['CAUSEY', 'RICHARD']\n",
      "['COLWELL', 'WESLEY']\n",
      "['DARBY', 'GILES']\n",
      "['DELAINEY', 'DAVID']\n",
      "['DESPAIN', 'TIMOTHY']\n",
      "['DUNCAN', 'DAVID']\n",
      "['FASTOW', 'ANDREW']\n",
      "['FASTOW', 'LEA']\n",
      "['FORNEY', 'JOHN']\n",
      "['FUHS', 'WILLIAM']\n",
      "['FURST', 'ROBERT']\n",
      "['GLISAN', 'BEN']\n",
      "['HANNON', 'KEVIN']\n",
      "['HIRKO', 'JOSEPH']\n",
      "['HOWARD', 'KEVIN']\n",
      "['KOENIG', 'MARK']\n",
      "['KOPPER', 'MICHAEL']\n",
      "['KRAUTZ', 'MICHAEL']\n",
      "['LAWYER', 'LARRY']\n",
      "['LAY', 'KENNETH']\n",
      "['LOEHR', 'CHRISTOPHER']\n",
      "['MULGREW', 'GARY']\n",
      "['RICE', 'KENNETH']\n",
      "['RICHTER', 'JEFFREY']\n",
      "['RIEKER', 'PAULA']\n",
      "['SHELBY', 'REX']\n",
      "['SKILLING', 'JEFFREY']\n",
      "['YEAGER', 'SCOTT']\n",
      "HANNON KEVIN P\n",
      "COLWELL WESLEY\n",
      "RIEKER PAULA H\n",
      "KOPPER MICHAEL J\n",
      "SHELBY REX\n",
      "DELAINEY DAVID W\n",
      "LAY KENNETH L\n",
      "BOWEN JR RAYMOND M\n",
      "BELDEN TIMOTHY N\n",
      "FASTOW ANDREW S\n",
      "CALGER CHRISTOPHER F\n",
      "RICE KENNETH D\n",
      "SKILLING JEFFREY K\n",
      "YEAGER F SCOTT\n",
      "HIRKO JOSEPH\n",
      "KOENIG MARK E\n",
      "CAUSEY RICHARD A\n",
      "GLISAN JR BEN F\n"
     ]
    }
   ],
   "source": [
    "pois = []\n",
    "with open('../final_project/poi_names.txt') as f:\n",
    "    for line in f:\n",
    "        if line.startswith('('):\n",
    "            pois.append(line[4:].rstrip().replace(' ', '').upper().split(','))\n",
    "            \n",
    "for x in sorted(pois):\n",
    "    print(x)\n",
    "\n",
    "for name, features in enron_data.items():\n",
    "    if features['poi'] == 1:\n",
    "        print(name)\n",
    "        "
   ]
  },
  {
   "cell_type": "code",
   "execution_count": 29,
   "metadata": {
    "collapsed": false
   },
   "outputs": [
    {
     "ename": "ModuleNotFoundError",
     "evalue": "No module named 'whoswho'",
     "output_type": "error",
     "traceback": [
      "\u001b[0;31m---------------------------------------------------------------------------\u001b[0m",
      "\u001b[0;31mModuleNotFoundError\u001b[0m                       Traceback (most recent call last)",
      "\u001b[0;32m<ipython-input-29-ee5d02040f18>\u001b[0m in \u001b[0;36m<module>\u001b[0;34m()\u001b[0m\n\u001b[0;32m----> 1\u001b[0;31m \u001b[0;32mimport\u001b[0m \u001b[0mwhoswho\u001b[0m\u001b[0;34m\u001b[0m\u001b[0m\n\u001b[0m",
      "\u001b[0;31mModuleNotFoundError\u001b[0m: No module named 'whoswho'"
     ]
    }
   ],
   "source": [
    "import whoswho"
   ]
  },
  {
   "cell_type": "code",
   "execution_count": null,
   "metadata": {
    "collapsed": true
   },
   "outputs": [],
   "source": []
  }
 ],
 "metadata": {
  "kernelspec": {
   "display_name": "Python 3",
   "language": "python",
   "name": "python3"
  },
  "language_info": {
   "codemirror_mode": {
    "name": "ipython",
    "version": 3
   },
   "file_extension": ".py",
   "mimetype": "text/x-python",
   "name": "python",
   "nbconvert_exporter": "python",
   "pygments_lexer": "ipython3",
   "version": "3.6.0"
  }
 },
 "nbformat": 4,
 "nbformat_minor": 2
}
