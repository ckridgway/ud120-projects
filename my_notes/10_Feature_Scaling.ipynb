{
  "cells": [
    {
      "cell_type": "markdown",
      "source": [
        "# Feature Scaling\n",
        "Features need to be scaled so that no one feature dominates, giving poor/false results.\n",
        "\n",
        "Feature scaling formula:\n",
        "\n",
        "$$ x' = \\frac{x - x_\\min}{x_\\max - x_\\min} $$\n"
      ],
      "metadata": {}
    },
    {
      "cell_type": "code",
      "source": [
        "def feature_scale(arr):\n",
        "    arr = [float(x) for x in arr]\n",
        "    \n",
        "    x_min = min(arr)\n",
        "    x_max = max(arr)\n",
        "    denom = x_max - x_min\n",
        "    \n",
        "    if x_min == x_max:\n",
        "        return [0 for x in arr]\n",
        "    \n",
        "    return [(x - x_min) / denom for x in arr]\n",
        "    \n",
        "print(feature_scale([115, 140, 175]))"
      ],
      "outputs": [
        {
          "output_type": "stream",
          "name": "stdout",
          "text": [
            "[0.0, 0.4166666666666667, 1.0]\n"
          ]
        }
      ],
      "execution_count": 1,
      "metadata": {
        "collapsed": false,
        "outputHidden": false,
        "inputHidden": false
      }
    },
    {
      "cell_type": "code",
      "source": [
        "# Example from lesson\n",
        "from sklearn.preprocessing import MinMaxScaler\n",
        "import numpy\n",
        "\n",
        "weights = numpy.array([[115.0], [140.0], [175.0]])\n",
        "\n",
        "scalar = MinMaxScaler()\n",
        "rescaled_weight = scalar.fit_transform(weights)\n",
        "\nprint(rescaled_weight)"
      ],
      "outputs": [
        {
          "output_type": "stream",
          "name": "stdout",
          "text": [
            "[[ 0.        ]\n",
            " [ 0.41666667]\n",
            " [ 1.        ]]\n"
          ]
        }
      ],
      "execution_count": 2,
      "metadata": {
        "collapsed": false,
        "outputHidden": false,
        "inputHidden": false
      }
    }
  ],
  "metadata": {
    "kernelspec": {
      "name": "python3",
      "language": "python",
      "display_name": "Python 3"
    },
    "kernel_info": {
      "name": "python3"
    },
    "language_info": {
      "name": "python",
      "version": "3.6.0",
      "mimetype": "text/x-python",
      "codemirror_mode": {
        "name": "ipython",
        "version": 3
      },
      "pygments_lexer": "ipython3",
      "nbconvert_exporter": "python",
      "file_extension": ".py"
    }
  },
  "nbformat": 4,
  "nbformat_minor": 4
}