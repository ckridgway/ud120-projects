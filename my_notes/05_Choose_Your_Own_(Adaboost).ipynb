{
 "cells": [
  {
   "cell_type": "markdown",
   "metadata": {},
   "source": [
    "# Choose Your Own Algorithm\n",
    "## Options\n",
    "### k-Nearest Neighbors\n",
    "* Classifier\n",
    "* Finds predefined number of neighbors closest in distance\n",
    "* [Nearest Neighbors](http://scikit-learn.org/stable/modules/neighbors.html)\n",
    "\n",
    "### AdaBoost (Chosen Algorithm)\n",
    "* Meta-estimator \n",
    "* Ensemble algorithm (works with a another classifer)\n",
    "* Uses a classifier (usually Decision trees)\n",
    "* Makes an initial fit of classifier on all samples\n",
    "* Make additional fits focusing on incorrect classifications \n",
    "* [AdaBoostClassifier](http://scikit-learn.org/stable/modules/generated/sklearn.ensemble.AdaBoostClassifier.html#sklearn.ensemble.AdaBoostClassifier)\n",
    "* [Example](http://scikit-learn.org/stable/auto_examples/ensemble/plot_adaboost_twoclass.html)\n",
    "\n",
    "### Random Forest\n",
    "* Meta-estimator \n",
    "* Ensemble algorithm\n",
    "* Uses decision tree classifier\n",
    "* Fits multiple decision trees on multiple sub-samples\n",
    "* Uses averaging to improve accuracy\n",
    "* [Random Forest Classifier](http://scikit-learn.org/stable/modules/generated/sklearn.ensemble.RandomForestClassifier.html)\n",
    "\n",
    "## AdaBoost Results\n",
    "    training time: 0.092 s\n",
    "    prediction time: 0.007 s\n",
    "    Accuracy Score= 0.924\n",
    "    \n",
    "## Beat the Teachers Quiz\n",
    "The teachers indicated the best they could achieve was 93.6% using the classifiers we'd learned about so far. I was able to achieve 94% using the ExtraTreesClassifier with the following settings:\n",
    "* n_estimators=5\n",
    "* max_samples_split=4\n",
    "* random_state=0\n",
    "                         "
   ]
  }
 ],
 "metadata": {
  "kernelspec": {
   "display_name": "Python 3",
   "language": "python",
   "name": "python3"
  },
  "language_info": {
   "codemirror_mode": {
    "name": "ipython",
    "version": 3
   },
   "file_extension": ".py",
   "mimetype": "text/x-python",
   "name": "python",
   "nbconvert_exporter": "python",
   "pygments_lexer": "ipython3",
   "version": "3.6.0"
  }
 },
 "nbformat": 4,
 "nbformat_minor": 2
}
