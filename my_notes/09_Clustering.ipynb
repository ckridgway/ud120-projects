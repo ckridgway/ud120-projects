{
  "cells": [
    {
      "cell_type": "markdown",
      "source": [
        "# Clustering\n",
        "A form of unsupervised learning. Finding structure in data.\n",
        "\n",
        "## K-Means\n",
        "Iterative process:\n",
        "* Assign\n",
        "* Minimize \n",
        "\n",
        "Subject to local-minima. Resultant centroids/clusters are subject to local-minima and may differ between runs.\n",
        "\nPossible to result in poor clusters due to local-minima. Replace centroids and try again."
      ],
      "metadata": {
        "collapsed": false,
        "outputHidden": false,
        "inputHidden": false
      }
    },
    {
      "cell_type": "code",
      "source": [],
      "outputs": [],
      "execution_count": null,
      "metadata": {
        "collapsed": false,
        "outputHidden": false,
        "inputHidden": false
      }
    }
  ],
  "metadata": {
    "kernelspec": {
      "name": "python3",
      "language": "python",
      "display_name": "Python 3"
    },
    "kernel_info": {
      "name": "python3"
    },
    "language_info": {
      "name": "python",
      "version": "3.6.0",
      "mimetype": "text/x-python",
      "codemirror_mode": {
        "name": "ipython",
        "version": 3
      },
      "pygments_lexer": "ipython3",
      "nbconvert_exporter": "python",
      "file_extension": ".py"
    }
  },
  "nbformat": 4,
  "nbformat_minor": 4
}