{
  "cells": [
    {
      "cell_type": "markdown",
      "source": [
        "# Outliers\n",
        "Depending on application we may want to reject or pay closer attention to outliers. An example of wanting to find outliers is fraud detection.\n",
        "\n",
        "## Reject\n",
        "Types of outliers to reject:\n",
        "* Sensor Failures/Anomalies\n",
        "* Data Entry Error\n",
        "* Freak Events\n",
        "\n",
        "Good algorithm for rejecting outliers in linear regressions is:\n",
        "* Train Regression\n",
        "* Remove points with largest _residual error_ (remove roughly 10% of points)\n",
        "* Train again\n",
        "\n"
      ],
      "metadata": {
        "collapsed": false,
        "outputHidden": false,
        "inputHidden": false
      }
    }
  ],
  "metadata": {
    "kernelspec": {
      "name": "python3",
      "language": "python",
      "display_name": "Python 3"
    },
    "kernel_info": {
      "name": "python3"
    },
    "language_info": {
      "name": "python",
      "version": "3.6.0",
      "mimetype": "text/x-python",
      "codemirror_mode": {
        "name": "ipython",
        "version": 3
      },
      "pygments_lexer": "ipython3",
      "nbconvert_exporter": "python",
      "file_extension": ".py"
    }
  },
  "nbformat": 4,
  "nbformat_minor": 4
}