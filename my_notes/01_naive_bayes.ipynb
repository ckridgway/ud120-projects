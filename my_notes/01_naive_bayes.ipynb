{
 "cells": [
  {
   "cell_type": "markdown",
   "metadata": {},
   "source": [
    "# Naive Bayes\n",
    "\n",
    "$ Prior Probability * Test Evidence -> Posterior Probability $\n",
    "\n",
    "## Formulas\n",
    "### Prior\n",
    "Prior probability of one having cancer:\n",
    "$$ P(C) $$\n",
    "\n",
    "Prior probability of one not having cancer:\n",
    "$$ P(\\neg C) $$ \n",
    "\n",
    "Probability of a positive test given one having cancer; also known as the *\"sensitivity\"*:\n",
    "$$ P(Pos|C) $$\n",
    "\n",
    "Probability of a negative test given one not having cancer; also known as the *\"specificity\"*:\n",
    "$$ P(Neg|\\neg C) $$\n",
    "       \n",
    "Probability of a negative test given one having cancer:\n",
    "$$ P(Neg|C) $$ \n",
    "\n",
    "Probability of a positive test given one not having cancer:\n",
    "$$ P(Pos|\\neg C) $$ \n",
    "\n",
    "    \n",
    "### Joint\n",
    "Probability of having cancer given a positive test:\n",
    "$$ P(C|Pos) = P(C) \\times P(Pos|C) $$\n",
    "\n",
    "Probability of **not** having cancer given a positive test:\n",
    "$$ P(\\neg C|Pos) = P(\\neg C) \\times P(Pos|\\neg C) $$\n",
    "\n",
    "### Normalize\n",
    "Need to normalize probailities so that when summed, they add up to 1 (100\n",
    "$$ P(Pos) = P(C|Pos) + P(\\neg C|Pos) $$\n",
    "    \n",
    "### Posterior\n",
    "Joint divided by the normalizer makes the probabilities add up to 1.\n",
    "\n",
    "$$ P(C|Pos) = \\frac{P(C|Pos)}{P(Pos)} $$\n",
    "\n",
    "$$ P(\\neg C|Pos) = \\frac{P(\\neg C|Pos)}{P(Pos)} $$"
   ]
  },
  {
   "cell_type": "markdown",
   "metadata": {},
   "source": [
    "## Chris and Sara E-Mails Quiz\n",
    "### Who most likely used the phrase *Life Deal*\n",
    "Determine the probability of who (Chris or Sara) wrote an email given they used the term \"Life Deal\".\n",
    "\n",
    "$$ P(Chris) = 0.5 $$\n",
    "$$ P(Sara) = 0.5 $$\n",
    "\n",
    "Chris and Sara only use three words ever in their emails: *love*, *deal*, and *life*. They use these words in different frequencies.\n",
    "\n",
    "$$ P(love|Chris) = 0.1 $$\n",
    "$$ P(deal|Chris) = 0.8 $$\n",
    "$$ P(life|Chris) = 0.1 $$\n",
    "\n",
    "$$ P(love|Sara) = 0.5 $$\n",
    "$$ P(deal|Sara) = 0.2 $$\n",
    "$$ P(life|Sara) = 0.3 $$"
   ]
  },
  {
   "cell_type": "code",
   "execution_count": 2,
   "metadata": {
    "collapsed": true
   },
   "outputs": [],
   "source": [
    "p_chris = 0.5\n",
    "p_sara = 0.5\n",
    "\n",
    "p_love_given_chris = 0.1   \n",
    "p_deal_given_chris = 0.8\n",
    "p_life_given_chris = 0.1\n",
    "\n",
    "p_love_given_sara = 0.5\n",
    "p_deal_given_sara = 0.2\n",
    "p_life_given_sara = 0.3"
   ]
  },
  {
   "cell_type": "markdown",
   "metadata": {},
   "source": [
    "Then the likelihood that Chris or Sara said *Life Deal* is...\n",
    "\n",
    "\\begin{align*}\n",
    "P(Chris|Life Deal) &= P(Chris) \\times P(life|Chris) \\times P(deal|Chris) \\\\\n",
    "                      &= 0.5 \\times 0.8 \\times 0.1 \\\\\n",
    "\\llap{\\rightarrow\\hspace{50pt}}            &= 0.04\n",
    "\\end{align*}\n",
    "\n",
    "...and the likelihood Sara said it is:\n",
    "\n",
    "\\begin{align*}\n",
    "P(Sara|Life Deal) &= P(Sara) \\times P(life|Sara) \\times P(deal|Sara) \\\\\n",
    "                  &= 0.5 \\times 0.2 \\times 0.3 \\\\\n",
    "\\llap{\\rightarrow\\hspace{50pt}}                   &= .03\n",
    "\\end{align*}"
   ]
  },
  {
   "cell_type": "code",
   "execution_count": 6,
   "metadata": {
    "collapsed": false
   },
   "outputs": [
    {
     "name": "stdout",
     "output_type": "stream",
     "text": [
      "P(Chris|Life Deal) = 0.04000000000000001\n",
      "P(Sara|Life Deal)  = 0.03\n"
     ]
    }
   ],
   "source": [
    "# Joint\n",
    "p_chris_given_life_deal = \\\n",
    "    p_chris * (p_life_given_chris * p_deal_given_chris)\n",
    "\n",
    "p_sara_given_life_deal = \\\n",
    "    p_sara * (p_life_given_sara * p_deal_given_sara)\n",
    "    \n",
    "print('P(Chris|Life Deal) =', p_chris_given_life_deal)\n",
    "print('P(Sara|Life Deal)  =', p_sara_given_life_deal)"
   ]
  },
  {
   "cell_type": "markdown",
   "metadata": {},
   "source": [
    "Normalize the results:\n",
    "\n",
    "\\begin{align*}\n",
    "P(Life Deal) &= P(Chris|Life Deal) + P(Sara|Life Deal) \\\\\n",
    "             &= 0.04 + 0.03 \\\\\n",
    "\\llap{\\rightarrow\\hspace{50pt}}           &= 0.07\n",
    "\\end{align*}"
   ]
  },
  {
   "cell_type": "code",
   "execution_count": 7,
   "metadata": {
    "collapsed": false
   },
   "outputs": [
    {
     "name": "stdout",
     "output_type": "stream",
     "text": [
      "P(Life Deal) = 0.07\n"
     ]
    }
   ],
   "source": [
    "# Normalizer\n",
    "p_life_deal = \\\n",
    "    p_chris_given_life_deal + p_sara_given_life_deal\n",
    "    \n",
    "print('P(Life Deal) =', p_life_deal)"
   ]
  },
  {
   "cell_type": "markdown",
   "metadata": {},
   "source": [
    "Then the posterior probabilities that Chris said *Life Deal* is...\n",
    "\n",
    "\\begin{align*}\n",
    "P(Chris|Life Deal)' &= \\frac{P(Chris|Life Deal)}{P(Life Deal)} \\\\\n",
    "                    &= \\frac{0.4}{0.07} \\\\\n",
    "\\llap{\\rightarrow\\hspace{50pt}}           &= 0.57\n",
    "\\end{align*}\n",
    "\n",
    "...and that Sara said it:\n",
    "\n",
    "\\begin{align*}\n",
    "P(Sara|Life Deal)' &= \\frac{P(Sara|Life Deal)}{P(Life Deal)} \\\\\n",
    "                    &= \\frac{0.3}{0.07} \\\\\n",
    "\\llap{\\rightarrow\\hspace{50pt}}           &= 0.43\n",
    "\\end{align*}"
   ]
  },
  {
   "cell_type": "code",
   "execution_count": 9,
   "metadata": {
    "collapsed": false
   },
   "outputs": [
    {
     "name": "stdout",
     "output_type": "stream",
     "text": [
      "P(Chris|\"Life Deal\") = 0.5714285714285715\n",
      "P(Sara|\"Life Deal\")  = 0.4285714285714285\n"
     ]
    }
   ],
   "source": [
    "# Posterior\n",
    "pp_chris_given_life_deal = \\\n",
    "    p_chris_given_life_deal / p_life_deal\n",
    "    \n",
    "pp_sara_given_life_deal = \\\n",
    "    p_sara_given_life_deal / p_life_deal\n",
    "    \n",
    "\n",
    "print('P(Chris|\\\"Life Deal\\\") =', pp_chris_given_life_deal)\n",
    "print('P(Sara|\\\"Life Deal\\\")  =', pp_sara_given_life_deal)"
   ]
  },
  {
   "cell_type": "markdown",
   "metadata": {},
   "source": [
    "### What if the phrase was *Love Deal*"
   ]
  },
  {
   "cell_type": "code",
   "execution_count": 10,
   "metadata": {
    "collapsed": false
   },
   "outputs": [
    {
     "name": "stdout",
     "output_type": "stream",
     "text": [
      "P(Chris|\"Love Deal\") = 0.4444444444444445\n",
      "P(Sara|\"Love Deal\")  = 0.5555555555555555\n"
     ]
    }
   ],
   "source": [
    "# Joint\n",
    "p_chris_given_love_deal = \\\n",
    "    p_chris * (p_love_given_chris * p_deal_given_chris)\n",
    "    \n",
    "p_sara_given_love_deal = \\\n",
    "    p_sara * (p_love_given_sara * p_deal_given_sara)\n",
    "    \n",
    "# Normalizer\n",
    "p_love_deal = \\\n",
    "    p_chris_given_love_deal + p_sara_given_love_deal\n",
    "    \n",
    "# Posterior\n",
    "pp_chris_given_love_deal = \\\n",
    "    p_chris_given_love_deal / p_love_deal\n",
    "    \n",
    "pp_sara_given_love_deal = \\\n",
    "    p_sara_given_love_deal / p_love_deal\n",
    "\n",
    "    \n",
    "print('P(Chris|\\\"Love Deal\\\") =', pp_chris_given_love_deal)\n",
    "print('P(Sara|\\\"Love Deal\\\")  =', pp_sara_given_love_deal)"
   ]
  },
  {
   "cell_type": "markdown",
   "metadata": {},
   "source": [
    "## Final Project\n",
    "See [nb_author_id.py](../naive_bayes/nb_author_id.py).\n",
    "\n",
    "Output:\n",
    "\n",
    "    no. of Chris training emails: 7936\n",
    "    no. of Sara training emails: 7884\n",
    "    training time: 2.579 s\n",
    "    prediction time: 0.271 s\n",
    "    Accuracy Score= 0.973265073948"
   ]
  }
 ],
 "metadata": {
  "kernelspec": {
   "display_name": "Python 3",
   "language": "python",
   "name": "python3"
  },
  "language_info": {
   "codemirror_mode": {
    "name": "ipython",
    "version": 3
   },
   "file_extension": ".py",
   "mimetype": "text/x-python",
   "name": "python",
   "nbconvert_exporter": "python",
   "pygments_lexer": "ipython3",
   "version": "3.6.0"
  }
 },
 "nbformat": 4,
 "nbformat_minor": 2
}
