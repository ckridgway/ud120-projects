{
 "cells": [
  {
   "cell_type": "markdown",
   "metadata": {},
   "source": [
    "# Naive Bayes\n",
    "\n",
    "    Prior Probability * Test Evidence -> Posterior Probability\n",
    "\n",
    "## Formulas\n",
    "### Prior\n",
    "         P(C) = Prior probability of cancer\n",
    "        P(~C) = Prior probability of no cancer\n",
    "        \n",
    "     P(Pos|C) = Probability of a positive test given cancer;\n",
    "                also known as the \"sensitivity\"\n",
    "    \n",
    "    P(Neg|~C) = Probability of a negative test given no cancer;\n",
    "                also known as the \"specificity\"\n",
    "        \n",
    "     P(Neg|C) = Probability of a negative test given cancer\n",
    "    P(Pos|~C) = Probability of a positive test given no cancer\n",
    "\n",
    "    \n",
    "### Joint\n",
    "     P(C|Pos) = P(C) * P(Pos|C)\n",
    "    P(~C|Pos) = P(~C) * P(Pos|~C)\n",
    "\n",
    "### Normalize\n",
    "    P(Pos) = P(C|Pos) + P(~C|Pos)\n",
    "    \n",
    "### Posterior\n",
    "Joint divided by the normalizer makes the probabilities add up to 1.\n",
    "\n",
    "     P(C|Pos) = P(C|Pos) / P(Pos)\n",
    "    P(~C|Pos) = P(~C|Pos) / P(Pos)\n",
    "    \n",
    "    \n",
    "## Chris and Sara E-Mails Quiz\n",
    "### Life Deal"
   ]
  },
  {
   "cell_type": "code",
   "execution_count": 14,
   "metadata": {
    "collapsed": false
   },
   "outputs": [
    {
     "name": "stdout",
     "output_type": "stream",
     "text": [
      "P(Chris|\"Life Deal\") = 0.5714285714285715\n",
      "P(Sara|\"Life Deal\")  = 0.4285714285714285\n"
     ]
    }
   ],
   "source": [
    "p_chris = 0.5\n",
    "p_sara = 0.5\n",
    "\n",
    "# Chris and Sara only use three words ever in their emails:\n",
    "# love, deal, life. Below is how often they each use the \n",
    "# different words.\n",
    "p_love_given_chris = 0.1   \n",
    "p_deal_given_chris = 0.8\n",
    "p_life_given_chris = 0.1\n",
    "\n",
    "p_love_given_sara = 0.5\n",
    "p_deal_given_sara = 0.2\n",
    "p_life_given_sara = 0.3\n",
    "\n",
    "# Joint\n",
    "p_chris_given_life_deal = \\\n",
    "    p_chris * (p_life_given_chris * p_deal_given_chris)\n",
    "\n",
    "p_sara_given_life_deal = \\\n",
    "    p_sara * (p_life_given_sara * p_deal_given_sara)\n",
    "    \n",
    "# Normalizer\n",
    "p_life_deal = \\\n",
    "    p_chris_given_life_deal + p_sara_given_life_deal\n",
    "    \n",
    "# Posterior\n",
    "pp_chris_given_life_deal = \\\n",
    "    p_chris_given_life_deal / p_life_deal\n",
    "    \n",
    "pp_sara_given_life_deal = \\\n",
    "    p_sara_given_life_deal / p_life_deal\n",
    "    \n",
    "\n",
    "print('P(Chris|\\\"Life Deal\\\") =', pp_chris_given_life_deal)\n",
    "print('P(Sara|\\\"Life Deal\\\")  =', pp_sara_given_life_deal)"
   ]
  },
  {
   "cell_type": "markdown",
   "metadata": {},
   "source": [
    "### Love Deal"
   ]
  },
  {
   "cell_type": "code",
   "execution_count": 15,
   "metadata": {
    "collapsed": false
   },
   "outputs": [
    {
     "name": "stdout",
     "output_type": "stream",
     "text": [
      "P(Chris|\"Love Deal\") = 0.4444444444444445\n",
      "P(Sara|\"Love Deal\")  = 0.5555555555555555\n"
     ]
    }
   ],
   "source": [
    "# Joint\n",
    "p_chris_given_love_deal = \\\n",
    "    p_chris * (p_love_given_chris * p_deal_given_chris)\n",
    "    \n",
    "p_sara_given_love_deal = \\\n",
    "    p_sara * (p_love_given_sara * p_deal_given_sara)\n",
    "    \n",
    "# Normalizer\n",
    "p_love_deal = \\\n",
    "    p_chris_given_love_deal + p_sara_given_love_deal\n",
    "    \n",
    "# Posterior\n",
    "pp_chris_given_love_deal = \\\n",
    "    p_chris_given_love_deal / p_love_deal\n",
    "    \n",
    "pp_sara_given_love_deal = \\\n",
    "    p_sara_given_love_deal / p_love_deal\n",
    "\n",
    "    \n",
    "print('P(Chris|\\\"Love Deal\\\") =', pp_chris_given_love_deal)\n",
    "print('P(Sara|\\\"Love Deal\\\")  =', pp_sara_given_love_deal)"
   ]
  },
  {
   "cell_type": "markdown",
   "metadata": {},
   "source": [
    "## Final Project\n",
    "See [nb_author_id.py](../naive_bayes/nb_author_id.py).\n",
    "\n",
    "Output:\n",
    "\n",
    "    no. of Chris training emails: 7936\n",
    "    no. of Sara training emails: 7884\n",
    "    training time: 2.579 s\n",
    "    prediction time: 0.271 s\n",
    "    Accuracy Score= 0.973265073948"
   ]
  },
  {
   "cell_type": "code",
   "execution_count": null,
   "metadata": {
    "collapsed": true
   },
   "outputs": [],
   "source": []
  }
 ],
 "metadata": {
  "kernelspec": {
   "display_name": "Python 3",
   "language": "python",
   "name": "python3"
  },
  "language_info": {
   "codemirror_mode": {
    "name": "ipython",
    "version": 3
   },
   "file_extension": ".py",
   "mimetype": "text/x-python",
   "name": "python",
   "nbconvert_exporter": "python",
   "pygments_lexer": "ipython3",
   "version": "3.6.0"
  }
 },
 "nbformat": 4,
 "nbformat_minor": 2
}
