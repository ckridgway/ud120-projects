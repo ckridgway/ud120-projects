{
  "cells": [
    {
      "cell_type": "markdown",
      "source": [
        "# Continuos Learning\n",
        "Previous chapters were focused on discrete learning. Continuous learning refers to the output being continuous rather than discrete.\n",
        "\n",
        "## Linear Regression\n",
        "### Error\n",
        "$$ error = actual - predicted $$\n",
        "\n",
        "Good fit attempts to minimize the error for all points.\n",
        "\n",
        "### Sum of Square Errors ### \n",
        "$$ \\sum |error^2| $$\n",
        "\n",
        "As you add more data points, however, the SSE gets larger even though the fit may be good.\n",
        "\n",
        "### R-Squared: $ R^2 $ ###\n",
        "Answers how much change in output is explained by the change in input.\n",
        "\n",
        "$$ 0.0 < r2 < 1.0 $$\n",
        "where:\n",
        "   * 0.0 indicates a poor fit\n",
        "   * 1.0 indicates a good fit"
      ],
      "metadata": {}
    },
    {
      "cell_type": "markdown",
      "source": [
        "## Mini-Project\n",
        "\n\n"
      ],
      "metadata": {
        "collapsed": false,
        "outputHidden": false,
        "inputHidden": false
      }
    },
    {
      "cell_type": "code",
      "source": [],
      "outputs": [],
      "execution_count": null,
      "metadata": {
        "collapsed": false,
        "outputHidden": false,
        "inputHidden": false
      }
    }
  ],
  "metadata": {
    "kernelspec": {
      "name": "node_nteract",
      "language": "javascript",
      "display_name": "Node.js (nteract)"
    },
    "kernel_info": {
      "name": "node_nteract"
    },
    "language_info": {
      "name": "javascript",
      "version": "6.5.0",
      "mimetype": "application/javascript",
      "file_extension": ".js"
    }
  },
  "nbformat": 4,
  "nbformat_minor": 4
}