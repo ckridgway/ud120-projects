{
 "cells": [
  {
   "cell_type": "markdown",
   "metadata": {},
   "source": [
    "# Support Vector Machine\n",
    "* Maximizes margin between two classes in order to maximize robustness\n",
    "* Finds hyperplane that best bisects the training data\n",
    "* Find feature that best bisects the data, for example:\n",
    "  X and Y might describe the data in a manner that is not bisectable by a hyperplane,\n",
    "  but $ X^2 \\times Y^2 $ might\n",
    "  \n",
    "* http://scikit-learn.org/stable/modules/svm.html\n",
    "\n",
    "## Mini-Project\n",
    "### Run with Linear Kernel\n",
    "    no. of Chris training emails: 7936\n",
    "    no. of Sara training emails: 7884\n",
    "    training time: 283.772 s\n",
    "    prediction time: 32.022 s\n",
    "    Accuracy Score= 0.984072810011\n",
    "\n",
    "### Run with Linear Kernel using a Smaller Training Set \n",
    "    training time: 0.213 s\n",
    "    prediction time: 2.48 s\n",
    "    Accuracy Score= 0.884527872582\n",
    "    \n",
    "Runs significantly faster while losing 10% accuracy.\n",
    "    \n",
    "### Run with RBF Kernel\n",
    "#### Using smaller Training Set\n",
    "    training time: 0.193 s\n",
    "    prediction time: 2.145 s\n",
    "    Accuracy Score= 0.616040955631\n",
    "    \n",
    "#### Adjust C=10.0\n",
    "    training time: 0.167 s\n",
    "    prediction time: 1.918 s\n",
    "    Accuracy Score= 0.616040955631\n",
    "\n",
    "#### Adjust C=100.0\n",
    "    training time: 0.183 s\n",
    "    prediction time: 1.848 s\n",
    "    Accuracy Score= 0.616040955631\n",
    "\n",
    "#### Adjust C=1000.0\n",
    "    training time: 0.17 s\n",
    "    prediction time: 1.789 s\n",
    "    Accuracy Score= 0.821387940842\n",
    "\n",
    "#### Adjust C=10000.0\n",
    "    training time: 0.161 s\n",
    "    prediction time: 1.497 s\n",
    "    Accuracy Score= 0.892491467577   <== 89% Accuracy\n",
    "    \n",
    "Achieves the best accuracy and timing. Higher values of C create a more complex decision boundary, while lower values create a smoother decision boundary.\n",
    "\n",
    "#### Now back to full Training Set\n",
    "    training time: 197.137 s\n",
    "    prediction time: 19.305 s\n",
    "    Accuracy Score= 0.990898748578    <== 99% Accuracy\n",
    "    \n",
    "#### Who wrote which email? ####\n",
    "training time: 0.179 s\n",
    "prediction time: 1.621 s\n",
    "Accuracy Score= 0.892491467577\n",
    "Item 10= Chris\n",
    "Item 26= Sara\n",
    "Item 50= Chris\n",
    "\n",
    "Sara wrote 881 emails.\n",
    "Chris wrote 877 email."
   ]
  },
  {
   "cell_type": "code",
   "execution_count": null,
   "metadata": {
    "collapsed": true
   },
   "outputs": [],
   "source": []
  }
 ],
 "metadata": {
  "kernelspec": {
   "display_name": "Python 3",
   "language": "python",
   "name": "python3"
  },
  "language_info": {
   "codemirror_mode": {
    "name": "ipython",
    "version": 3
   },
   "file_extension": ".py",
   "mimetype": "text/x-python",
   "name": "python",
   "nbconvert_exporter": "python",
   "pygments_lexer": "ipython3",
   "version": "3.6.0"
  }
 },
 "nbformat": 4,
 "nbformat_minor": 2
}
