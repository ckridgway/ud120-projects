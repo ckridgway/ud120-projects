{
  "cells": [
    {
      "cell_type": "markdown",
      "source": [
        "# Feature Selection\n",
        "* Select best features\n",
        "* Find new features\n",
        "* Start with human intuition\n",
        "* Code up the new feature\n",
        "* Visualize\n",
        "* Repeat if we can do better\n",
        "\n",
        "## Getting Rid of Features\n",
        "Remove features that are:\n",
        "* Noisy\n",
        "* Causing overfitting\n",
        "* Strongly related (highly correlated) w/ another feature\n",
        "* Features that slow down training/testing process\n",
        "\n",
        "## Features != Information\n",
        "* We want information\n",
        "* Features attempt to access information\n",
        "* Want bare-minimum of features needed to access information\n",
        "\n",
        "## Univariate Selection Tools in sklearn\n",
        "* SelectPercentile\n",
        "* SelectKBest\n",
        "\n",
        "## Bias-Variance Dilemma and no. of Features\n",
        "### High Bias\n",
        "* pays little attention to data\n",
        "* oversimplified\n",
        "* high error on training set (low $ r^2 $, large SSE)\n",
        "* too few features\n",
        "\n",
        "### High Variance\n",
        "* pays too much attention to data\n",
        "* overfits\n",
        "* much higher error on test set than on training set\n",
        "* too many features\n",
        "\n",
        "### Sweet Spot\n",
        "* few features\n",
        "* large $ r^2 $\n",
        "* low SSE\n",
        "* _regularization_: balance errors w/ no. of features\n",
        "  * lasso regression"
      ],
      "metadata": {
        "collapsed": false,
        "outputHidden": false,
        "inputHidden": false
      }
    }
  ],
  "metadata": {
    "kernelspec": {
      "name": "python3",
      "language": "python",
      "display_name": "Python 3"
    },
    "kernel_info": {
      "name": "python3"
    },
    "language_info": {
      "name": "python",
      "version": "3.6.0",
      "mimetype": "text/x-python",
      "codemirror_mode": {
        "name": "ipython",
        "version": 3
      },
      "pygments_lexer": "ipython3",
      "nbconvert_exporter": "python",
      "file_extension": ".py"
    }
  },
  "nbformat": 4,
  "nbformat_minor": 4
}