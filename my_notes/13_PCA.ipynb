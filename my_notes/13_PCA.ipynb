{
  "cells": [
    {
      "cell_type": "markdown",
      "source": [
        "# Principal Component Analysis (PCA)\n",
        "Transform coordinate system, such that:\n",
        "* x' axis is the principal axis with most variation among data points\n",
        "* other prime axis become less important and have less variaton among data points\n",
        "* Find maximal variance to retain most information / minimize information loss\n",
        "* Systemized way to transform input features into principal components\n",
        "* Use principal components (PCs) as new features\n",
        "\n\n",
        "## Measurable vs. Latent Features\n",
        "* Some features are measurable\n",
        "* Some of those can be condensed to find latent (subjective) features\n",
        "* Use SelectKBest or SelectPercentile to condense features\n",
        "* Create composite features\n",
        "  * Example: Square Footage + No. Rooms -> Size\n",
        "  * Project onto new 1D coordinate system\n",
        "\n",
        "  \n"
      ],
      "metadata": {}
    },
    {
      "cell_type": "code",
      "source": [
        "a = 1\n",
        "c = 2\n",
        "import math\n",
        "math.sqrt(c**2 - a**2)\n"
      ],
      "outputs": [
        {
          "output_type": "execute_result",
          "execution_count": 7,
          "data": {
            "text/plain": [
              "0.7071067811865475"
            ]
          },
          "metadata": {}
        }
      ],
      "execution_count": 7,
      "metadata": {
        "collapsed": false,
        "outputHidden": false,
        "inputHidden": false
      }
    }
  ],
  "metadata": {
    "kernelspec": {
      "name": "python3",
      "language": "python",
      "display_name": "Python 3"
    },
    "kernel_info": {
      "name": "python3"
    },
    "language_info": {
      "name": "python",
      "version": "3.6.0",
      "mimetype": "text/x-python",
      "codemirror_mode": {
        "name": "ipython",
        "version": 3
      },
      "pygments_lexer": "ipython3",
      "nbconvert_exporter": "python",
      "file_extension": ".py"
    }
  },
  "nbformat": 4,
  "nbformat_minor": 4
}