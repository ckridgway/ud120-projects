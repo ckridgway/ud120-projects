{
 "cells": [
  {
   "cell_type": "markdown",
   "metadata": {},
   "source": [
    "# Decision Trees\n",
    "\n"
   ]
  },
  {
   "cell_type": "markdown",
   "metadata": {
    "collapsed": true
   },
   "source": [
    "## Entropy ##\n",
    "Entropy controls how a Decision Tree decides where to split the data.\n",
    "\n",
    "Entropy is the \"measure of impurity in a number of samples\".\n",
    "\n",
    "$$ \\sum_{i} = -(Pi)\\log_2(Pi) $$\n",
    "\n",
    "where entropy of:\n",
    "* 0 indicates minimal entropy\n",
    "* 1 indicates maximal entropy\n",
    "\n",
    "and where:\n",
    "* $ Pi $ is the ratio of the number of times a specific sample occurs in a set of samples to the total number of samples.\n",
    "\n",
    "Example:\n",
    "If you have a number of samples: [s,s,f,f]. Then entropy would be calculated as:\n",
    "\n",
    "$$ P_s = 2 / 4 = 0.5 $$\n",
    "$$ P_f = 2 / 4 = 0.5 $$\n",
    "\n",
    "\\begin{align*}\n",
    "\\sum_{i} &= -(Pi)\\log_2(Pi) \\\\\n",
    "         &= -(P_s)\\log_2(P_s) + -(P_f)\\log_2(P_f) \\\\\n",
    "         &= -(0.5)\\log_2(0.5) + -(0.5)\\log_2(0.5) \\\\\n",
    "\\llap{\\rightarrow\\hspace{50pt}}                   &= 1.0\n",
    "\\end{align*}"
   ]
  },
  {
   "cell_type": "code",
   "execution_count": 16,
   "metadata": {
    "collapsed": false
   },
   "outputs": [
    {
     "name": "stdout",
     "output_type": "stream",
     "text": [
      "Entropy = 1.0\n"
     ]
    }
   ],
   "source": [
    "import math\n",
    "entropy = -(0.5)*math.log(0.5, 2) + \\\n",
    "          -(0.5)*math.log(0.5, 2)\n",
    "\n",
    "print('Entropy =', entropy)"
   ]
  },
  {
   "cell_type": "markdown",
   "metadata": {},
   "source": [
    "## Information Gain ##\n",
    "\n",
    "information_gain = entropy(parent) - [weighted average of the]entropy(children)\n",
    "\n",
    "Decisions tree want to maximize information gain.\n",
    "\n",
    "* 0 information gain = nothing learned\n",
    "* 1 information gain = perfect split\n",
    "\n",
    "### Quiz: Information Gain if Split on Grade ###"
   ]
  },
  {
   "cell_type": "code",
   "execution_count": 17,
   "metadata": {
    "collapsed": false
   },
   "outputs": [
    {
     "name": "stdout",
     "output_type": "stream",
     "text": [
      "Information Gain(Grade) = 0.31127812445913283\n"
     ]
    }
   ],
   "source": [
    "# Speed | Grade\n",
    "# -------------\n",
    "# slow  | steep\n",
    "# slow  | steep\n",
    "# fast  | flat \n",
    "# fast  | steep\n",
    "\n",
    "#                Speed \n",
    "#              [s,s,f,f]\n",
    "#      steep  /        \\ flat\n",
    "#            /         \\\n",
    "#        [s,s,f]      [f]\n",
    "\n",
    "entropy_parent = 1.0       # speed\n",
    "entropy_flat = 0.0   # only 1 sample - so 0\n",
    "entropy_steep = \\\n",
    "    -(2/3) * math.log((2/3), 2) \\\n",
    "    -(1/3) * math.log((1/3), 2)\n",
    "    \n",
    "weighted_average_of_children_entropy = \\\n",
    "    (3/4) * entropy_steep + \\\n",
    "    (1/4) * entropy_flat\n",
    "    \n",
    "information_gain_grade = \\\n",
    "    entropy_parent - weighted_average_of_children_entropy\n",
    "    \n",
    "print('Information Gain(Grade) =', information_gain_grade)"
   ]
  },
  {
   "cell_type": "markdown",
   "metadata": {},
   "source": [
    "### Quiz: Information Gain if Split on Bumpiness ###"
   ]
  },
  {
   "cell_type": "code",
   "execution_count": 20,
   "metadata": {
    "collapsed": false
   },
   "outputs": [
    {
     "name": "stdout",
     "output_type": "stream",
     "text": [
      "Information Gain(Bumpiness) = 0.0\n"
     ]
    }
   ],
   "source": [
    "# Speed | Bumpiness\n",
    "# -----------------\n",
    "# slow  | bumpy  \n",
    "# slow  | smooth\n",
    "# fast  | bumpy\n",
    "# fast  | smooth\n",
    "\n",
    "#                Speed \n",
    "#              [s,s,f,f]\n",
    "#      bumpy  /        \\ smooth\n",
    "#            /         \\\n",
    "#        [s,f]        [s,f]\n",
    "\n",
    "entropy_parent = 1.0       # speed\n",
    "entropy_bumpy = \\\n",
    "    -(1/2) * math.log((1/2), 2) \\\n",
    "    -(1/2) * math.log((1/2), 2)\n",
    "\n",
    "entropy_smooth = \\\n",
    "    -(1/2) * math.log((1/2), 2) \\\n",
    "    -(1/2) * math.log((1/2), 2)\n",
    "    \n",
    "weighted_average_of_children_entropy = \\\n",
    "    (2/4) * entropy_bumpy + \\\n",
    "    (2/4) * entropy_smooth\n",
    "    \n",
    "information_gain_bumpiness = \\\n",
    "    entropy_parent - weighted_average_of_children_entropy\n",
    "    \n",
    "print('Information Gain(Bumpiness) =', information_gain_bumpiness)"
   ]
  },
  {
   "cell_type": "markdown",
   "metadata": {},
   "source": [
    "An information gain of 0.0 isn't useful.\n",
    "\n",
    "### Quiz: Split on Speed Limit"
   ]
  },
  {
   "cell_type": "code",
   "execution_count": 21,
   "metadata": {
    "collapsed": false
   },
   "outputs": [
    {
     "name": "stdout",
     "output_type": "stream",
     "text": [
      "Information Gain(Speed Limit) = 1.0\n"
     ]
    }
   ],
   "source": [
    "# Speed | Limit\n",
    "# -----------------\n",
    "# slow  | yes  \n",
    "# slow  | yes\n",
    "# fast  | no\n",
    "# fast  | no\n",
    "\n",
    "#                Speed \n",
    "#              [s,s,f,f]\n",
    "#      yes    /        \\ no\n",
    "#            /         \\\n",
    "#        [s,s]        [f,f]\n",
    "\n",
    "entropy_parent = 1.0       # speed\n",
    "entropy_yes = \\\n",
    "    -(2/2) * math.log((2/2), 2)\n",
    "\n",
    "entropy_no = \\\n",
    "    -(2/2) * math.log((2/2), 2)\n",
    "    \n",
    "weighted_average_of_children_entropy = \\\n",
    "    (2/4) * entropy_yes + \\\n",
    "    (2/4) * entropy_no\n",
    "    \n",
    "information_gain_limit = \\\n",
    "    entropy_parent - weighted_average_of_children_entropy\n",
    "    \n",
    "print('Information Gain(Speed Limit) =', information_gain_limit)"
   ]
  },
  {
   "cell_type": "markdown",
   "metadata": {},
   "source": [
    "## Mini-Project ##\n",
    "### Part 1 ###\n",
    "    no. of Chris training emails: 7936\n",
    "    no. of Sara training emails: 7884\n",
    "    no. of features: 3785\n",
    "    training time: 119.004 s\n",
    "    prediction time: 0.077 s\n",
    "    Accuracy Score= 0.9795221843\n",
    "    Item 10= Chris\n",
    "    Item 26= Sara\n",
    "    Item 50= Chris\n",
    "    Sara wrote 889 emails.\n",
    "    Chris wrote 869 email.  \n",
    "    \n",
    "### Part 2 ###\n",
    "    percentile=10: num features=3785\n",
    "    percentile=1 : num features=379\n",
    "    \n",
    "    no. of Chris training emails: 7936\n",
    "    no. of Sara training emails: 7884\n",
    "    no. of features: 379\n",
    "    training time: 5.952 s\n",
    "    prediction time: 0.006 s\n",
    "    Accuracy Score= 0.966439135381\n",
    "    Item 10= Chris\n",
    "    Item 26= Sara\n",
    "    Item 50= Chris\n",
    "    Sara wrote 872 emails.\n",
    "    Chris wrote 886 email.\n",
    "    \n",
    "According to scikit learn docs, SelectPercentile is selecting features \"...according to a percentile of the highest scores.\" - http://scikit-learn.org/dev/modules/generated/sklearn.feature_selection.SelectPercentile.html"
   ]
  }
 ],
 "metadata": {
  "kernelspec": {
   "display_name": "Python 3",
   "language": "python",
   "name": "python3"
  },
  "language_info": {
   "codemirror_mode": {
    "name": "ipython",
    "version": 3
   },
   "file_extension": ".py",
   "mimetype": "text/x-python",
   "name": "python",
   "nbconvert_exporter": "python",
   "pygments_lexer": "ipython3",
   "version": "3.6.0"
  }
 },
 "nbformat": 4,
 "nbformat_minor": 2
}
